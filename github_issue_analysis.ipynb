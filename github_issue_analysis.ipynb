{
 "cells": [
  {
   "cell_type": "markdown",
   "id": "fa62af05",
   "metadata": {},
   "source": [
    "## Github issues analysis\n",
    "#### This analysis includes open and closed issues:\n",
    "- issues duration\n",
    "- comments amount/ issue\n",
    "- issues labels\n",
    "- author organizations\n",
    "- keywords frequencies"
   ]
  },
  {
   "cell_type": "code",
   "execution_count": 1,
   "id": "0eff0ae0",
   "metadata": {},
   "outputs": [],
   "source": [
    "import json\n",
    "import requests\n",
    "import numpy as np\n",
    "import pandas as pd\n",
    "import os\n",
    "import time\n",
    "from pprint import pprint\n",
    "from requests.auth import HTTPBasicAuth\n",
    "from datetime import datetime\n",
    "from datetime import timezone\n",
    "import matplotlib.pyplot as plt\n",
    "import numpy as np\n",
    "%matplotlib inline"
   ]
  },
  {
   "cell_type": "markdown",
   "id": "907fe496",
   "metadata": {},
   "source": [
    "### useful data analysis websites"
   ]
  },
  {
   "cell_type": "code",
   "execution_count": 2,
   "id": "efe52bf6",
   "metadata": {},
   "outputs": [],
   "source": [
    "# https://app.flipsidecrypto.com/auth/signup?camplink=homepage\n",
    "# https://www.cryptomiso.com/#ATOM"
   ]
  },
  {
   "cell_type": "markdown",
   "id": "d668272a",
   "metadata": {},
   "source": [
    "### helper functions"
   ]
  },
  {
   "cell_type": "code",
   "execution_count": 3,
   "id": "5f261e21",
   "metadata": {},
   "outputs": [],
   "source": [
    "# helper functions\n",
    "def next_page(link):\n",
    "    links = link.split(',')\n",
    "    for link in links:\n",
    "    # If there is a 'next' link return the URL between the angle brackets, or None\n",
    "        if 'rel=\"next\"' in link:\n",
    "            return link[link.find(\"<\")+1:link.find(\">\")]\n",
    "    return None\n",
    "\n",
    "def label_name(labels):\n",
    "    label_names = []\n",
    "    for label in labels:\n",
    "        label_names.append(label['name'])\n",
    "    return label_names\n",
    "\n",
    "def find_keywords(content, words, words_dict):\n",
    "    \n",
    "    for word in words:\n",
    "        if word in content:\n",
    "            words_dict[word] += 1\n",
    "                      \n",
    "def cross_link_issues(content):\n",
    "    if content == None:\n",
    "        return 0\n",
    "    return content.count('closes:')\n",
    "\n",
    "def title_concat_body(title, body):\n",
    "    if title == None:\n",
    "        title =''\n",
    "    if body == None:\n",
    "        body = ''\n",
    "    return title + body"
   ]
  },
  {
   "cell_type": "markdown",
   "id": "a385d092",
   "metadata": {},
   "source": [
    "### prepare the df for open and closed issues"
   ]
  },
  {
   "cell_type": "code",
   "execution_count": 4,
   "id": "a609553d",
   "metadata": {},
   "outputs": [],
   "source": [
    "# prepare open issue df\n",
    "issues_df = pd.DataFrame(columns = [\"issue_no\",\n",
    "                                    \"created_at\", \n",
    "                                    \"closed_at\", \n",
    "                                    \"assignees_no\", \n",
    "                                    \"labels\",\n",
    "                                    \"closes_no\",\n",
    "                                    \"comments\",\n",
    "                                    \"content\",\n",
    "                                    \"author_association\"])\n",
    "\n",
    "# prepare close issue df\n",
    "closed_issues_df = pd.DataFrame(columns = [\"issue_no\",\n",
    "                                    \"created_at\", \n",
    "                                    \"closed_at\", \n",
    "                                    \"assignees_no\", \n",
    "                                    \"labels\",\n",
    "                                    \"closes_no\",\n",
    "                                    \"comments\",\n",
    "                                    \"content\",\n",
    "                                    \"author_association\"])\n"
   ]
  },
  {
   "cell_type": "markdown",
   "id": "24b32f2e",
   "metadata": {},
   "source": [
    "### setup github token to get a higher threshhold for reqeust rate limit"
   ]
  },
  {
   "cell_type": "code",
   "execution_count": 5,
   "id": "7f15040d",
   "metadata": {},
   "outputs": [],
   "source": [
    "token = ''\n",
    "headers = {'Authorization': f'token {token}'}"
   ]
  },
  {
   "cell_type": "markdown",
   "id": "35b720de",
   "metadata": {},
   "source": [
    "### get open issues"
   ]
  },
  {
   "cell_type": "code",
   "execution_count": 47,
   "id": "68399869",
   "metadata": {},
   "outputs": [
    {
     "data": {
      "text/html": [
       "<div>\n",
       "<style scoped>\n",
       "    .dataframe tbody tr th:only-of-type {\n",
       "        vertical-align: middle;\n",
       "    }\n",
       "\n",
       "    .dataframe tbody tr th {\n",
       "        vertical-align: top;\n",
       "    }\n",
       "\n",
       "    .dataframe thead th {\n",
       "        text-align: right;\n",
       "    }\n",
       "</style>\n",
       "<table border=\"1\" class=\"dataframe\">\n",
       "  <thead>\n",
       "    <tr style=\"text-align: right;\">\n",
       "      <th></th>\n",
       "      <th>issue_no</th>\n",
       "      <th>created_at</th>\n",
       "      <th>closed_at</th>\n",
       "      <th>assignees_no</th>\n",
       "      <th>labels</th>\n",
       "      <th>closes_no</th>\n",
       "      <th>comments</th>\n",
       "      <th>content</th>\n",
       "      <th>author_association</th>\n",
       "      <th>comments_no</th>\n",
       "    </tr>\n",
       "  </thead>\n",
       "  <tbody>\n",
       "    <tr>\n",
       "      <th>0</th>\n",
       "      <td>1084</td>\n",
       "      <td>2021-11-28 12:37:16+00:00</td>\n",
       "      <td>None</td>\n",
       "      <td>1</td>\n",
       "      <td>[T:bug, blocked]</td>\n",
       "      <td>0</td>\n",
       "      <td>NaN</td>\n",
       "      <td>Replacing Cosmos SDK with 43.2Is there a reaso...</td>\n",
       "      <td>CONTRIBUTOR</td>\n",
       "      <td>0.0</td>\n",
       "    </tr>\n",
       "    <tr>\n",
       "      <th>1</th>\n",
       "      <td>1081</td>\n",
       "      <td>2021-11-25 09:02:37+00:00</td>\n",
       "      <td>None</td>\n",
       "      <td>2</td>\n",
       "      <td>[more-info-needed]</td>\n",
       "      <td>0</td>\n",
       "      <td>NaN</td>\n",
       "      <td>Upgrade to Gaia V6.0.0 startup error4:00PM INF...</td>\n",
       "      <td>NONE</td>\n",
       "      <td>0.0</td>\n",
       "    </tr>\n",
       "    <tr>\n",
       "      <th>2</th>\n",
       "      <td>1073</td>\n",
       "      <td>2021-11-18 23:41:57+00:00</td>\n",
       "      <td>None</td>\n",
       "      <td>2</td>\n",
       "      <td>[move-to-sdk]</td>\n",
       "      <td>0</td>\n",
       "      <td>NaN</td>\n",
       "      <td>Output of 'status' command returned on stderr,...</td>\n",
       "      <td>NONE</td>\n",
       "      <td>0.0</td>\n",
       "    </tr>\n",
       "    <tr>\n",
       "      <th>3</th>\n",
       "      <td>1072</td>\n",
       "      <td>2021-11-18 23:32:49+00:00</td>\n",
       "      <td>None</td>\n",
       "      <td>0</td>\n",
       "      <td>[]</td>\n",
       "      <td>0</td>\n",
       "      <td>NaN</td>\n",
       "      <td>Docker container doesn't show the version## Su...</td>\n",
       "      <td>NONE</td>\n",
       "      <td>0.0</td>\n",
       "    </tr>\n",
       "    <tr>\n",
       "      <th>4</th>\n",
       "      <td>1067</td>\n",
       "      <td>2021-11-16 15:06:23+00:00</td>\n",
       "      <td>None</td>\n",
       "      <td>0</td>\n",
       "      <td>[governance]</td>\n",
       "      <td>0</td>\n",
       "      <td>NaN</td>\n",
       "      <td>Archive IPFS links in old governance proposals...</td>\n",
       "      <td>MEMBER</td>\n",
       "      <td>0.0</td>\n",
       "    </tr>\n",
       "  </tbody>\n",
       "</table>\n",
       "</div>"
      ],
      "text/plain": [
       "  issue_no                 created_at closed_at assignees_no  \\\n",
       "0     1084  2021-11-28 12:37:16+00:00      None            1   \n",
       "1     1081  2021-11-25 09:02:37+00:00      None            2   \n",
       "2     1073  2021-11-18 23:41:57+00:00      None            2   \n",
       "3     1072  2021-11-18 23:32:49+00:00      None            0   \n",
       "4     1067  2021-11-16 15:06:23+00:00      None            0   \n",
       "\n",
       "               labels closes_no comments  \\\n",
       "0    [T:bug, blocked]         0      NaN   \n",
       "1  [more-info-needed]         0      NaN   \n",
       "2       [move-to-sdk]         0      NaN   \n",
       "3                  []         0      NaN   \n",
       "4        [governance]         0      NaN   \n",
       "\n",
       "                                             content author_association  \\\n",
       "0  Replacing Cosmos SDK with 43.2Is there a reaso...        CONTRIBUTOR   \n",
       "1  Upgrade to Gaia V6.0.0 startup error4:00PM INF...               NONE   \n",
       "2  Output of 'status' command returned on stderr,...               NONE   \n",
       "3  Docker container doesn't show the version## Su...               NONE   \n",
       "4  Archive IPFS links in old governance proposals...             MEMBER   \n",
       "\n",
       "   comments_no  \n",
       "0          0.0  \n",
       "1          0.0  \n",
       "2          0.0  \n",
       "3          0.0  \n",
       "4          0.0  "
      ]
     },
     "execution_count": 47,
     "metadata": {},
     "output_type": "execute_result"
    }
   ],
   "source": [
    "url = \"https://api.github.com/repos/cosmos/gaia/issues\"\n",
    "while url != None:\n",
    "    r = requests.get(url, headers=headers).json()\n",
    "  \n",
    "    for i in range(len(r)):    \n",
    "        data = {\n",
    "                 \"issue_no\": r[i][\"number\"],\n",
    "                 \"created_at\": r[i][\"created_at\"], \n",
    "                 \"closed_at\": r[i][\"closed_at\"],\n",
    "                 \"assignees_no\": len(r[i][\"assignees\"]),\n",
    "                 \"labels\": label_name(r[i]['labels']),\n",
    "                 \"closes_no\": cross_link_issues(r[i]['body']),\n",
    "                 \"comments_no\": r[i]['comments'],\n",
    "                 \"content\":  title_concat_body(r[i]['title'], r[i]['body']),\n",
    "                 \"author_association\":r[i]['author_association'],\n",
    "                }\n",
    "    \n",
    "        issues_df = issues_df.append(data, ignore_index=True)\n",
    "   \n",
    "    link = requests.get(url,headers=headers).headers.get('link', None)\n",
    "    url = next_page(link)\n",
    "    \n",
    "issues_df.head()"
   ]
  },
  {
   "cell_type": "markdown",
   "id": "f688365f",
   "metadata": {},
   "source": [
    "### get close issues"
   ]
  },
  {
   "cell_type": "code",
   "execution_count": 7,
   "id": "691925fc",
   "metadata": {},
   "outputs": [
    {
     "data": {
      "text/html": [
       "<div>\n",
       "<style scoped>\n",
       "    .dataframe tbody tr th:only-of-type {\n",
       "        vertical-align: middle;\n",
       "    }\n",
       "\n",
       "    .dataframe tbody tr th {\n",
       "        vertical-align: top;\n",
       "    }\n",
       "\n",
       "    .dataframe thead th {\n",
       "        text-align: right;\n",
       "    }\n",
       "</style>\n",
       "<table border=\"1\" class=\"dataframe\">\n",
       "  <thead>\n",
       "    <tr style=\"text-align: right;\">\n",
       "      <th></th>\n",
       "      <th>issue_no</th>\n",
       "      <th>created_at</th>\n",
       "      <th>closed_at</th>\n",
       "      <th>assignees_no</th>\n",
       "      <th>labels</th>\n",
       "      <th>closes_no</th>\n",
       "      <th>comments</th>\n",
       "      <th>content</th>\n",
       "      <th>author_association</th>\n",
       "      <th>comments_no</th>\n",
       "    </tr>\n",
       "  </thead>\n",
       "  <tbody>\n",
       "    <tr>\n",
       "      <th>0</th>\n",
       "      <td>1083</td>\n",
       "      <td>2021-11-28T11:30:52Z</td>\n",
       "      <td>2021-11-29T12:05:42Z</td>\n",
       "      <td>0</td>\n",
       "      <td>[]</td>\n",
       "      <td>0</td>\n",
       "      <td>NaN</td>\n",
       "      <td>Update Readme# README.MD PREVIEW\\r\\n\\r\\n\\r\\n&lt;d...</td>\n",
       "      <td>MEMBER</td>\n",
       "      <td>2.0</td>\n",
       "    </tr>\n",
       "    <tr>\n",
       "      <th>1</th>\n",
       "      <td>1082</td>\n",
       "      <td>2021-11-26T03:33:05Z</td>\n",
       "      <td>2021-11-26T11:35:13Z</td>\n",
       "      <td>0</td>\n",
       "      <td>[good first issue]</td>\n",
       "      <td>0</td>\n",
       "      <td>NaN</td>\n",
       "      <td>Upgrade to v6.0.0 errorMy current version is v...</td>\n",
       "      <td>NONE</td>\n",
       "      <td>3.0</td>\n",
       "    </tr>\n",
       "    <tr>\n",
       "      <th>2</th>\n",
       "      <td>1080</td>\n",
       "      <td>2021-11-24T10:55:04Z</td>\n",
       "      <td>2021-11-29T08:58:41Z</td>\n",
       "      <td>0</td>\n",
       "      <td>[]</td>\n",
       "      <td>0</td>\n",
       "      <td>NaN</td>\n",
       "      <td>Update upgrade-node.mdadd more info\\r\\n\\r\\n&lt;!-...</td>\n",
       "      <td>MEMBER</td>\n",
       "      <td>0.0</td>\n",
       "    </tr>\n",
       "    <tr>\n",
       "      <th>3</th>\n",
       "      <td>1079</td>\n",
       "      <td>2021-11-24T09:16:35Z</td>\n",
       "      <td>2021-11-24T10:15:09Z</td>\n",
       "      <td>0</td>\n",
       "      <td>[]</td>\n",
       "      <td>0</td>\n",
       "      <td>NaN</td>\n",
       "      <td>Rc0/v6.0.0&lt;!-- &lt; &lt; &lt; &lt; &lt; &lt; &lt; &lt; &lt; &lt; &lt; &lt; &lt; &lt; &lt; &lt;...</td>\n",
       "      <td>MEMBER</td>\n",
       "      <td>1.0</td>\n",
       "    </tr>\n",
       "    <tr>\n",
       "      <th>4</th>\n",
       "      <td>1078</td>\n",
       "      <td>2021-11-24T08:54:25Z</td>\n",
       "      <td>2021-11-24T09:12:53Z</td>\n",
       "      <td>0</td>\n",
       "      <td>[]</td>\n",
       "      <td>0</td>\n",
       "      <td>NaN</td>\n",
       "      <td>gaia: add NewSetUpContextDecorator to antedeco...</td>\n",
       "      <td>MEMBER</td>\n",
       "      <td>2.0</td>\n",
       "    </tr>\n",
       "  </tbody>\n",
       "</table>\n",
       "</div>"
      ],
      "text/plain": [
       "  issue_no            created_at             closed_at assignees_no  \\\n",
       "0     1083  2021-11-28T11:30:52Z  2021-11-29T12:05:42Z            0   \n",
       "1     1082  2021-11-26T03:33:05Z  2021-11-26T11:35:13Z            0   \n",
       "2     1080  2021-11-24T10:55:04Z  2021-11-29T08:58:41Z            0   \n",
       "3     1079  2021-11-24T09:16:35Z  2021-11-24T10:15:09Z            0   \n",
       "4     1078  2021-11-24T08:54:25Z  2021-11-24T09:12:53Z            0   \n",
       "\n",
       "               labels closes_no comments  \\\n",
       "0                  []         0      NaN   \n",
       "1  [good first issue]         0      NaN   \n",
       "2                  []         0      NaN   \n",
       "3                  []         0      NaN   \n",
       "4                  []         0      NaN   \n",
       "\n",
       "                                             content author_association  \\\n",
       "0  Update Readme# README.MD PREVIEW\\r\\n\\r\\n\\r\\n<d...             MEMBER   \n",
       "1  Upgrade to v6.0.0 errorMy current version is v...               NONE   \n",
       "2  Update upgrade-node.mdadd more info\\r\\n\\r\\n<!-...             MEMBER   \n",
       "3  Rc0/v6.0.0<!-- < < < < < < < < < < < < < < < <...             MEMBER   \n",
       "4  gaia: add NewSetUpContextDecorator to antedeco...             MEMBER   \n",
       "\n",
       "   comments_no  \n",
       "0          2.0  \n",
       "1          3.0  \n",
       "2          0.0  \n",
       "3          1.0  \n",
       "4          2.0  "
      ]
     },
     "execution_count": 7,
     "metadata": {},
     "output_type": "execute_result"
    }
   ],
   "source": [
    "closed_url = \"https://api.github.com/repos/cosmos/gaia/issues?state=closed\"\n",
    "while closed_url != None:\n",
    "    time.sleep(2)\n",
    "    r = requests.get(closed_url, headers=headers).json()\n",
    "    for i in range(len(r)):    \n",
    "        data = {\n",
    "                 \"issue_no\": r[i][\"number\"],\n",
    "                 \"created_at\": r[i][\"created_at\"], \n",
    "                 \"closed_at\": r[i][\"closed_at\"],\n",
    "                 \"assignees_no\": len(r[i][\"assignees\"]),\n",
    "                 \"labels\": label_name(r[i]['labels']),\n",
    "                 \"closes_no\": cross_link_issues(r[i]['body']),\n",
    "                 \"comments_no\": r[i]['comments'],\n",
    "                 \"content\": title_concat_body(r[i]['title'], r[i]['body']),\n",
    "                 \"author_association\":r[i]['author_association'],\n",
    "                }\n",
    "    \n",
    "        closed_issues_df = closed_issues_df.append(data, ignore_index=True)\n",
    "        \n",
    "    link = requests.get(closed_url, headers=headers).headers.get('link', None)\n",
    "    closed_url = next_page(link)\n",
    "closed_issues_df.head()"
   ]
  },
  {
   "cell_type": "markdown",
   "id": "5b430f03",
   "metadata": {},
   "source": [
    "### clean data"
   ]
  },
  {
   "cell_type": "code",
   "execution_count": 8,
   "id": "83ce974f",
   "metadata": {},
   "outputs": [],
   "source": [
    "# drop duplicated rows\n",
    "issues_df = issues_df.drop_duplicates(subset='issue_no', keep=\"first\")\n",
    "closed_issues_df = closed_issues_df.drop_duplicates(subset='issue_no', keep=\"first\")\n",
    "# time formating for issue open and closed time\n",
    "issues_df['created_at'] = pd.to_datetime(issues_df['created_at'],utc=True)\n",
    "closed_issues_df['closed_at'] = pd.to_datetime(closed_issues_df['closed_at'])\n",
    "closed_issues_df['created_at'] = pd.to_datetime(closed_issues_df['created_at'],utc=True)"
   ]
  },
  {
   "cell_type": "code",
   "execution_count": 9,
   "id": "964dcfdd",
   "metadata": {},
   "outputs": [
    {
     "name": "stdout",
     "output_type": "stream",
     "text": [
      "<class 'pandas.core.frame.DataFrame'>\n",
      "Int64Index: 99 entries, 0 to 98\n",
      "Data columns (total 10 columns):\n",
      " #   Column              Non-Null Count  Dtype              \n",
      "---  ------              --------------  -----              \n",
      " 0   issue_no            99 non-null     object             \n",
      " 1   created_at          99 non-null     datetime64[ns, UTC]\n",
      " 2   closed_at           0 non-null      object             \n",
      " 3   assignees_no        99 non-null     object             \n",
      " 4   labels              99 non-null     object             \n",
      " 5   closes_no           99 non-null     object             \n",
      " 6   comments            0 non-null      object             \n",
      " 7   content             99 non-null     object             \n",
      " 8   author_association  99 non-null     object             \n",
      " 9   comments_no         99 non-null     float64            \n",
      "dtypes: datetime64[ns, UTC](1), float64(1), object(8)\n",
      "memory usage: 8.5+ KB\n",
      "<class 'pandas.core.frame.DataFrame'>\n",
      "Int64Index: 963 entries, 0 to 962\n",
      "Data columns (total 10 columns):\n",
      " #   Column              Non-Null Count  Dtype              \n",
      "---  ------              --------------  -----              \n",
      " 0   issue_no            963 non-null    object             \n",
      " 1   created_at          963 non-null    datetime64[ns, UTC]\n",
      " 2   closed_at           963 non-null    datetime64[ns, UTC]\n",
      " 3   assignees_no        963 non-null    object             \n",
      " 4   labels              963 non-null    object             \n",
      " 5   closes_no           963 non-null    object             \n",
      " 6   comments            0 non-null      object             \n",
      " 7   content             963 non-null    object             \n",
      " 8   author_association  963 non-null    object             \n",
      " 9   comments_no         963 non-null    float64            \n",
      "dtypes: datetime64[ns, UTC](2), float64(1), object(7)\n",
      "memory usage: 82.8+ KB\n"
     ]
    }
   ],
   "source": [
    "issues_df.info()\n",
    "closed_issues_df.info()"
   ]
  },
  {
   "cell_type": "code",
   "execution_count": 10,
   "id": "fae65f16",
   "metadata": {},
   "outputs": [
    {
     "name": "stdout",
     "output_type": "stream",
     "text": [
      "There are 99 open issues + open pull requests!\n",
      "There are 963 closed issues + closed pull requests!\n"
     ]
    }
   ],
   "source": [
    "issues_df.to_csv('./open.csv')\n",
    "closed_issues_df.to_csv('./close.csv')\n",
    "print('There are {} open issues + open pull requests!'.format(issues_df.shape[0]))\n",
    "print('There are {} closed issues + closed pull requests!'.format(closed_issues_df.shape[0]))"
   ]
  },
  {
   "cell_type": "markdown",
   "id": "3d18452e",
   "metadata": {},
   "source": [
    "### save to csv to avoid repeated run http request (github API has a rate limit)"
   ]
  },
  {
   "cell_type": "code",
   "execution_count": 11,
   "id": "dac88109",
   "metadata": {},
   "outputs": [
    {
     "name": "stdout",
     "output_type": "stream",
     "text": [
      "<class 'pandas.core.frame.DataFrame'>\n",
      "Int64Index: 99 entries, 0 to 98\n",
      "Data columns (total 10 columns):\n",
      " #   Column              Non-Null Count  Dtype  \n",
      "---  ------              --------------  -----  \n",
      " 0   issue_no            99 non-null     int64  \n",
      " 1   created_at          99 non-null     object \n",
      " 2   closed_at           0 non-null      float64\n",
      " 3   assignees_no        99 non-null     int64  \n",
      " 4   labels              99 non-null     object \n",
      " 5   closes_no           99 non-null     int64  \n",
      " 6   comments            0 non-null      float64\n",
      " 7   content             99 non-null     object \n",
      " 8   author_association  99 non-null     object \n",
      " 9   comments_no         99 non-null     float64\n",
      "dtypes: float64(3), int64(3), object(4)\n",
      "memory usage: 8.5+ KB\n",
      "<class 'pandas.core.frame.DataFrame'>\n",
      "Int64Index: 963 entries, 0 to 962\n",
      "Data columns (total 10 columns):\n",
      " #   Column              Non-Null Count  Dtype  \n",
      "---  ------              --------------  -----  \n",
      " 0   issue_no            963 non-null    int64  \n",
      " 1   created_at          963 non-null    object \n",
      " 2   closed_at           963 non-null    object \n",
      " 3   assignees_no        963 non-null    int64  \n",
      " 4   labels              963 non-null    object \n",
      " 5   closes_no           963 non-null    int64  \n",
      " 6   comments            0 non-null      float64\n",
      " 7   content             963 non-null    object \n",
      " 8   author_association  963 non-null    object \n",
      " 9   comments_no         963 non-null    float64\n",
      "dtypes: float64(2), int64(3), object(5)\n",
      "memory usage: 82.8+ KB\n"
     ]
    }
   ],
   "source": [
    "issues_df1 = pd.read_csv('./open.csv', index_col=0)  \n",
    "closed_issues_df1 = pd.read_csv('./close.csv', index_col=0)  \n",
    "issues_df1.info()\n",
    "closed_issues_df1.info()"
   ]
  },
  {
   "cell_type": "markdown",
   "id": "8847d928",
   "metadata": {},
   "source": [
    "### issues durations"
   ]
  },
  {
   "cell_type": "code",
   "execution_count": 12,
   "id": "5a9adabf",
   "metadata": {},
   "outputs": [],
   "source": [
    "open_durs = (datetime.now(timezone.utc)- issues_df['created_at']).dt.days\n",
    "closed_durs = (closed_issues_df['closed_at'] - closed_issues_df['created_at']).dt.days"
   ]
  },
  {
   "cell_type": "code",
   "execution_count": 13,
   "id": "9c51dd19",
   "metadata": {},
   "outputs": [
    {
     "data": {
      "image/png": "[encoded data removed]",
      "text/plain": [
       "<Figure size 432x288 with 1 Axes>"
      ]
     },
     "metadata": {
      "needs_background": "light"
     },
     "output_type": "display_data"
    },
    {
     "data": {
      "image/png": "[encoded data removed]",
      "text/plain": [
       "<Figure size 432x288 with 2 Axes>"
      ]
     },
     "metadata": {
      "needs_background": "light"
     },
     "output_type": "display_data"
    }
   ],
   "source": [
    "# open issues durations\n",
    "plt.hist(open_durs, density=False, bins=30,  edgecolor='black', linewidth=1.2)  # density=False would make counts\n",
    "plt.ylabel('counts')\n",
    "plt.xlabel('open issues duration till now (days)')\n",
    "plt.xticks(np.arange(0,max(open_durs.values), 100))\n",
    "plt.savefig('durations_open_issues.png', bbox_inches='tight')\n",
    "plt.show()\n",
    "\n",
    "# closed issues durations\n",
    "f, (ax, ax2) = plt.subplots(2, 1, sharex=True)\n",
    "ax.hist(closed_durs, edgecolor='black', linewidth=1.2, bins=30)\n",
    "ax2.hist(closed_durs, edgecolor='black', linewidth=1.2, bins=30)\n",
    "ax.set_ylim(850,900)  # outliers only\n",
    "ax2.set_ylim(0,50) \n",
    "\n",
    "# plt.xticks(rotation=tilt,  horizontalalignment='right')\n",
    "plt.xlabel('closed issues durations (days)')\n",
    "plt.ylabel('counts')\n",
    "\n",
    "ax.spines['bottom'].set_visible(False)\n",
    "ax2.spines['top'].set_visible(False)\n",
    "ax.xaxis.tick_top()\n",
    "ax.tick_params(labeltop=False,  top=False)  \n",
    "ax2.xaxis.tick_bottom()\n",
    "\n",
    "d = .015 \n",
    "kwargs = dict(transform=ax.transAxes, color='k', clip_on=False)\n",
    "ax.plot((-d, +d), (-d, +d), **kwargs)        # top-left diagonal\n",
    "ax.plot((1 - d, 1 + d), (-d, +d), **kwargs)  # top-right diagonal\n",
    "\n",
    "kwargs.update(transform=ax2.transAxes)  # switch to the bottom axes\n",
    "ax2.plot((-d, +d), (1 - d, 1 + d), **kwargs)  # bottom-left diagonal\n",
    "ax2.plot((1 - d, 1 + d), (1 - d, 1 + d), **kwargs)  # bottom-right diagonal\n",
    "plt.savefig('durations_closed_issues.png', bbox_inches='tight')\n",
    "plt.show()"
   ]
  },
  {
   "cell_type": "code",
   "execution_count": 14,
   "id": "756714b2",
   "metadata": {},
   "outputs": [
    {
     "name": "stdout",
     "output_type": "stream",
     "text": [
      "There are 0.87 issues + open pull requests are closed less than 30 days!\n",
      "The average and median issues durations are 27.08 and 0.0 !\n"
     ]
    }
   ],
   "source": [
    "# how many issues closed less than 4 weeks\n",
    "under30d = closed_durs[closed_durs.values <= 30].shape[0]/closed_durs.shape[0]\n",
    "print('There are {} issues + open pull requests are closed less than 30 days!'.format(round(under30d,2)))\n",
    "\n",
    "print('The average and median issues durations are {} and {} !'.format(round(closed_durs.mean(),2), closed_durs.median()))\n"
   ]
  },
  {
   "cell_type": "code",
   "execution_count": 15,
   "id": "d9530779",
   "metadata": {},
   "outputs": [
    {
     "data": {
      "text/html": [
       "<div>\n",
       "<style scoped>\n",
       "    .dataframe tbody tr th:only-of-type {\n",
       "        vertical-align: middle;\n",
       "    }\n",
       "\n",
       "    .dataframe tbody tr th {\n",
       "        vertical-align: top;\n",
       "    }\n",
       "\n",
       "    .dataframe thead th {\n",
       "        text-align: right;\n",
       "    }\n",
       "</style>\n",
       "<table border=\"1\" class=\"dataframe\">\n",
       "  <thead>\n",
       "    <tr style=\"text-align: right;\">\n",
       "      <th></th>\n",
       "      <th>issue_no</th>\n",
       "      <th>created_at</th>\n",
       "      <th>closed_at</th>\n",
       "      <th>assignees_no</th>\n",
       "      <th>labels</th>\n",
       "      <th>closes_no</th>\n",
       "      <th>comments</th>\n",
       "      <th>content</th>\n",
       "      <th>author_association</th>\n",
       "      <th>comments_no</th>\n",
       "      <th>durs</th>\n",
       "    </tr>\n",
       "  </thead>\n",
       "  <tbody>\n",
       "    <tr>\n",
       "      <th>1</th>\n",
       "      <td>1082</td>\n",
       "      <td>2021-11-26 03:33:05+00:00</td>\n",
       "      <td>2021-11-26 11:35:13+00:00</td>\n",
       "      <td>0</td>\n",
       "      <td>[good first issue]</td>\n",
       "      <td>0</td>\n",
       "      <td>NaN</td>\n",
       "      <td>Upgrade to v6.0.0 errorMy current version is v...</td>\n",
       "      <td>NONE</td>\n",
       "      <td>3.0</td>\n",
       "      <td>0</td>\n",
       "    </tr>\n",
       "    <tr>\n",
       "      <th>3</th>\n",
       "      <td>1079</td>\n",
       "      <td>2021-11-24 09:16:35+00:00</td>\n",
       "      <td>2021-11-24 10:15:09+00:00</td>\n",
       "      <td>0</td>\n",
       "      <td>[]</td>\n",
       "      <td>0</td>\n",
       "      <td>NaN</td>\n",
       "      <td>Rc0/v6.0.0&lt;!-- &lt; &lt; &lt; &lt; &lt; &lt; &lt; &lt; &lt; &lt; &lt; &lt; &lt; &lt; &lt; &lt;...</td>\n",
       "      <td>MEMBER</td>\n",
       "      <td>1.0</td>\n",
       "      <td>0</td>\n",
       "    </tr>\n",
       "    <tr>\n",
       "      <th>4</th>\n",
       "      <td>1078</td>\n",
       "      <td>2021-11-24 08:54:25+00:00</td>\n",
       "      <td>2021-11-24 09:12:53+00:00</td>\n",
       "      <td>0</td>\n",
       "      <td>[]</td>\n",
       "      <td>0</td>\n",
       "      <td>NaN</td>\n",
       "      <td>gaia: add NewSetUpContextDecorator to antedeco...</td>\n",
       "      <td>MEMBER</td>\n",
       "      <td>2.0</td>\n",
       "      <td>0</td>\n",
       "    </tr>\n",
       "    <tr>\n",
       "      <th>5</th>\n",
       "      <td>1077</td>\n",
       "      <td>2021-11-23 10:52:51+00:00</td>\n",
       "      <td>2021-11-24 08:33:55+00:00</td>\n",
       "      <td>0</td>\n",
       "      <td>[WIP]</td>\n",
       "      <td>0</td>\n",
       "      <td>NaN</td>\n",
       "      <td>Vega 6.0.0&lt;!-- &lt; &lt; &lt; &lt; &lt; &lt; &lt; &lt; &lt; &lt; &lt; &lt; &lt; &lt; &lt; &lt;...</td>\n",
       "      <td>MEMBER</td>\n",
       "      <td>1.0</td>\n",
       "      <td>0</td>\n",
       "    </tr>\n",
       "    <tr>\n",
       "      <th>6</th>\n",
       "      <td>1076</td>\n",
       "      <td>2021-11-22 17:23:33+00:00</td>\n",
       "      <td>2021-11-22 17:23:59+00:00</td>\n",
       "      <td>0</td>\n",
       "      <td>[]</td>\n",
       "      <td>0</td>\n",
       "      <td>NaN</td>\n",
       "      <td>Update cosmos-hub-roadmap-2.0.mdZaki thinks li...</td>\n",
       "      <td>MEMBER</td>\n",
       "      <td>0.0</td>\n",
       "      <td>0</td>\n",
       "    </tr>\n",
       "    <tr>\n",
       "      <th>...</th>\n",
       "      <td>...</td>\n",
       "      <td>...</td>\n",
       "      <td>...</td>\n",
       "      <td>...</td>\n",
       "      <td>...</td>\n",
       "      <td>...</td>\n",
       "      <td>...</td>\n",
       "      <td>...</td>\n",
       "      <td>...</td>\n",
       "      <td>...</td>\n",
       "      <td>...</td>\n",
       "    </tr>\n",
       "    <tr>\n",
       "      <th>952</th>\n",
       "      <td>8</td>\n",
       "      <td>2019-05-20 13:33:49+00:00</td>\n",
       "      <td>2019-05-20 15:16:04+00:00</td>\n",
       "      <td>0</td>\n",
       "      <td>[R4R]</td>\n",
       "      <td>0</td>\n",
       "      <td>NaN</td>\n",
       "      <td>Add Github Templatescloses #6 \\r\\n\\r\\nMost por...</td>\n",
       "      <td>MEMBER</td>\n",
       "      <td>0.0</td>\n",
       "      <td>0</td>\n",
       "    </tr>\n",
       "    <tr>\n",
       "      <th>953</th>\n",
       "      <td>7</td>\n",
       "      <td>2019-05-20 13:22:51+00:00</td>\n",
       "      <td>2019-05-20 15:16:38+00:00</td>\n",
       "      <td>3</td>\n",
       "      <td>[T:bug, REST]</td>\n",
       "      <td>0</td>\n",
       "      <td>NaN</td>\n",
       "      <td>Rest Client Panic```\\r\\n$ gaiacli rest-server ...</td>\n",
       "      <td>MEMBER</td>\n",
       "      <td>1.0</td>\n",
       "      <td>0</td>\n",
       "    </tr>\n",
       "    <tr>\n",
       "      <th>954</th>\n",
       "      <td>6</td>\n",
       "      <td>2019-05-20 13:22:15+00:00</td>\n",
       "      <td>2019-05-20 15:16:04+00:00</td>\n",
       "      <td>0</td>\n",
       "      <td>[]</td>\n",
       "      <td>0</td>\n",
       "      <td>NaN</td>\n",
       "      <td>Create Github Feature/Bug templatesCreate Gith...</td>\n",
       "      <td>MEMBER</td>\n",
       "      <td>0.0</td>\n",
       "      <td>0</td>\n",
       "    </tr>\n",
       "    <tr>\n",
       "      <th>955</th>\n",
       "      <td>5</td>\n",
       "      <td>2019-05-20 09:59:42+00:00</td>\n",
       "      <td>2019-05-20 19:27:36+00:00</td>\n",
       "      <td>0</td>\n",
       "      <td>[R4R, docs]</td>\n",
       "      <td>0</td>\n",
       "      <td>NaN</td>\n",
       "      <td>Marko/Gaia Documentation FixesFixed documentat...</td>\n",
       "      <td>MEMBER</td>\n",
       "      <td>0.0</td>\n",
       "      <td>0</td>\n",
       "    </tr>\n",
       "    <tr>\n",
       "      <th>959</th>\n",
       "      <td>1</td>\n",
       "      <td>2019-05-17 11:14:17+00:00</td>\n",
       "      <td>2019-05-17 14:36:35+00:00</td>\n",
       "      <td>0</td>\n",
       "      <td>[]</td>\n",
       "      <td>0</td>\n",
       "      <td>NaN</td>\n",
       "      <td>Init gaia</td>\n",
       "      <td>MEMBER</td>\n",
       "      <td>1.0</td>\n",
       "      <td>0</td>\n",
       "    </tr>\n",
       "  </tbody>\n",
       "</table>\n",
       "<p>554 rows × 11 columns</p>\n",
       "</div>"
      ],
      "text/plain": [
       "    issue_no                created_at                 closed_at assignees_no  \\\n",
       "1       1082 2021-11-26 03:33:05+00:00 2021-11-26 11:35:13+00:00            0   \n",
       "3       1079 2021-11-24 09:16:35+00:00 2021-11-24 10:15:09+00:00            0   \n",
       "4       1078 2021-11-24 08:54:25+00:00 2021-11-24 09:12:53+00:00            0   \n",
       "5       1077 2021-11-23 10:52:51+00:00 2021-11-24 08:33:55+00:00            0   \n",
       "6       1076 2021-11-22 17:23:33+00:00 2021-11-22 17:23:59+00:00            0   \n",
       "..       ...                       ...                       ...          ...   \n",
       "952        8 2019-05-20 13:33:49+00:00 2019-05-20 15:16:04+00:00            0   \n",
       "953        7 2019-05-20 13:22:51+00:00 2019-05-20 15:16:38+00:00            3   \n",
       "954        6 2019-05-20 13:22:15+00:00 2019-05-20 15:16:04+00:00            0   \n",
       "955        5 2019-05-20 09:59:42+00:00 2019-05-20 19:27:36+00:00            0   \n",
       "959        1 2019-05-17 11:14:17+00:00 2019-05-17 14:36:35+00:00            0   \n",
       "\n",
       "                 labels closes_no comments  \\\n",
       "1    [good first issue]         0      NaN   \n",
       "3                    []         0      NaN   \n",
       "4                    []         0      NaN   \n",
       "5                 [WIP]         0      NaN   \n",
       "6                    []         0      NaN   \n",
       "..                  ...       ...      ...   \n",
       "952               [R4R]         0      NaN   \n",
       "953       [T:bug, REST]         0      NaN   \n",
       "954                  []         0      NaN   \n",
       "955         [R4R, docs]         0      NaN   \n",
       "959                  []         0      NaN   \n",
       "\n",
       "                                               content author_association  \\\n",
       "1    Upgrade to v6.0.0 errorMy current version is v...               NONE   \n",
       "3    Rc0/v6.0.0<!-- < < < < < < < < < < < < < < < <...             MEMBER   \n",
       "4    gaia: add NewSetUpContextDecorator to antedeco...             MEMBER   \n",
       "5    Vega 6.0.0<!-- < < < < < < < < < < < < < < < <...             MEMBER   \n",
       "6    Update cosmos-hub-roadmap-2.0.mdZaki thinks li...             MEMBER   \n",
       "..                                                 ...                ...   \n",
       "952  Add Github Templatescloses #6 \\r\\n\\r\\nMost por...             MEMBER   \n",
       "953  Rest Client Panic```\\r\\n$ gaiacli rest-server ...             MEMBER   \n",
       "954  Create Github Feature/Bug templatesCreate Gith...             MEMBER   \n",
       "955  Marko/Gaia Documentation FixesFixed documentat...             MEMBER   \n",
       "959                                          Init gaia             MEMBER   \n",
       "\n",
       "     comments_no  durs  \n",
       "1            3.0     0  \n",
       "3            1.0     0  \n",
       "4            2.0     0  \n",
       "5            1.0     0  \n",
       "6            0.0     0  \n",
       "..           ...   ...  \n",
       "952          0.0     0  \n",
       "953          1.0     0  \n",
       "954          0.0     0  \n",
       "955          0.0     0  \n",
       "959          1.0     0  \n",
       "\n",
       "[554 rows x 11 columns]"
      ]
     },
     "execution_count": 15,
     "metadata": {},
     "output_type": "execute_result"
    }
   ],
   "source": [
    "closed_issues_df['durs'] = closed_durs\n",
    "closed_issues_df[closed_issues_df['durs'] == 0]"
   ]
  },
  {
   "cell_type": "code",
   "execution_count": 76,
   "id": "c5f04257",
   "metadata": {},
   "outputs": [
    {
     "data": {
      "text/html": [
       "<div>\n",
       "<style scoped>\n",
       "    .dataframe tbody tr th:only-of-type {\n",
       "        vertical-align: middle;\n",
       "    }\n",
       "\n",
       "    .dataframe tbody tr th {\n",
       "        vertical-align: top;\n",
       "    }\n",
       "\n",
       "    .dataframe thead th {\n",
       "        text-align: right;\n",
       "    }\n",
       "</style>\n",
       "<table border=\"1\" class=\"dataframe\">\n",
       "  <thead>\n",
       "    <tr style=\"text-align: right;\">\n",
       "      <th></th>\n",
       "      <th>issue_no</th>\n",
       "      <th>created_at</th>\n",
       "      <th>closed_at</th>\n",
       "      <th>assignees_no</th>\n",
       "      <th>labels</th>\n",
       "      <th>closes_no</th>\n",
       "      <th>comments</th>\n",
       "      <th>content</th>\n",
       "      <th>author_association</th>\n",
       "      <th>comments_no</th>\n",
       "      <th>durs</th>\n",
       "    </tr>\n",
       "  </thead>\n",
       "  <tbody>\n",
       "    <tr>\n",
       "      <th>9</th>\n",
       "      <td>1071</td>\n",
       "      <td>2021-11-18 22:15:27+00:00</td>\n",
       "      <td>2021-11-18 23:30:29+00:00</td>\n",
       "      <td>0</td>\n",
       "      <td>[]</td>\n",
       "      <td>0</td>\n",
       "      <td>NaN</td>\n",
       "      <td>Update interchain-security.md&lt;!-- &lt; &lt; &lt; &lt; &lt; &lt; ...</td>\n",
       "      <td>MEMBER</td>\n",
       "      <td>0.0</td>\n",
       "      <td>0</td>\n",
       "    </tr>\n",
       "  </tbody>\n",
       "</table>\n",
       "</div>"
      ],
      "text/plain": [
       "  issue_no                created_at                 closed_at assignees_no  \\\n",
       "9     1071 2021-11-18 22:15:27+00:00 2021-11-18 23:30:29+00:00            0   \n",
       "\n",
       "  labels closes_no comments  \\\n",
       "9     []         0      NaN   \n",
       "\n",
       "                                             content author_association  \\\n",
       "9  Update interchain-security.md<!-- < < < < < < ...             MEMBER   \n",
       "\n",
       "   comments_no  durs  \n",
       "9          0.0     0  "
      ]
     },
     "execution_count": 76,
     "metadata": {},
     "output_type": "execute_result"
    }
   ],
   "source": [
    "#1077\n",
    "closed_issues_df[closed_issues_df['issue_no'] == 1071]"
   ]
  },
  {
   "cell_type": "code",
   "execution_count": 16,
   "id": "8ce01a7d",
   "metadata": {},
   "outputs": [
    {
     "data": {
      "text/html": [
       "<div>\n",
       "<style scoped>\n",
       "    .dataframe tbody tr th:only-of-type {\n",
       "        vertical-align: middle;\n",
       "    }\n",
       "\n",
       "    .dataframe tbody tr th {\n",
       "        vertical-align: top;\n",
       "    }\n",
       "\n",
       "    .dataframe thead th {\n",
       "        text-align: right;\n",
       "    }\n",
       "</style>\n",
       "<table border=\"1\" class=\"dataframe\">\n",
       "  <thead>\n",
       "    <tr style=\"text-align: right;\">\n",
       "      <th></th>\n",
       "      <th>issue_no</th>\n",
       "      <th>created_at</th>\n",
       "      <th>closed_at</th>\n",
       "      <th>assignees_no</th>\n",
       "      <th>labels</th>\n",
       "      <th>closes_no</th>\n",
       "      <th>comments</th>\n",
       "      <th>content</th>\n",
       "      <th>author_association</th>\n",
       "      <th>comments_no</th>\n",
       "      <th>durs</th>\n",
       "    </tr>\n",
       "  </thead>\n",
       "  <tbody>\n",
       "    <tr>\n",
       "      <th>960</th>\n",
       "      <td>200</td>\n",
       "      <td>2018-11-16 17:30:33+00:00</td>\n",
       "      <td>2021-11-23 13:39:00+00:00</td>\n",
       "      <td>0</td>\n",
       "      <td>[tests]</td>\n",
       "      <td>0</td>\n",
       "      <td>NaN</td>\n",
       "      <td>test unjail in CLI and LCD_Originally posted b...</td>\n",
       "      <td>MEMBER</td>\n",
       "      <td>3.0</td>\n",
       "      <td>1102</td>\n",
       "    </tr>\n",
       "  </tbody>\n",
       "</table>\n",
       "</div>"
      ],
      "text/plain": [
       "    issue_no                created_at                 closed_at assignees_no  \\\n",
       "960      200 2018-11-16 17:30:33+00:00 2021-11-23 13:39:00+00:00            0   \n",
       "\n",
       "      labels closes_no comments  \\\n",
       "960  [tests]         0      NaN   \n",
       "\n",
       "                                               content author_association  \\\n",
       "960  test unjail in CLI and LCD_Originally posted b...             MEMBER   \n",
       "\n",
       "     comments_no  durs  \n",
       "960          3.0  1102  "
      ]
     },
     "execution_count": 16,
     "metadata": {},
     "output_type": "execute_result"
    }
   ],
   "source": [
    "closed_issues_df[closed_issues_df['durs'] >1000]"
   ]
  },
  {
   "cell_type": "code",
   "execution_count": 17,
   "id": "df4f2747",
   "metadata": {},
   "outputs": [],
   "source": [
    "# def histgram_with_break(data, xlabel, ylabel, tilt, ax_y1, ax_y2, ax2_y1, ax2_y2):\n",
    "#     f, (ax, ax2) = plt.subplots(2, 1, sharex=True)\n",
    "#     ax.hist(data, edgecolor='black', linewidth=1.2, bins=20)\n",
    "#     ax2.hist(data, edgecolor='black', linewidth=1.2, bins=20)\n",
    "#     ax.set_ylim(ax_y1,ax_y2)  # outliers only\n",
    "#     ax2.set_ylim(ax2_y1,ax2_y2) \n",
    "\n",
    "#     plt.xticks(rotation=tilt,  horizontalalignment='right')\n",
    "#     plt.ylabel(ylabel)\n",
    "#     plt.xlabel(xlabel)\n",
    "    \n",
    "#     ax.spines['bottom'].set_visible(False)\n",
    "#     ax2.spines['top'].set_visible(False)\n",
    "#     ax.xaxis.tick_top()\n",
    "#     ax.tick_params(labeltop=False,  top = False)  \n",
    "#     ax2.xaxis.tick_bottom()\n",
    "\n",
    "#     d = .015 \n",
    "#     kwargs = dict(transform=ax.transAxes, color='k', clip_on=False)\n",
    "#     ax.plot((-d, +d), (-d, +d), **kwargs)        # top-left diagonal\n",
    "#     ax.plot((1 - d, 1 + d), (-d, +d), **kwargs)  # top-right diagonal\n",
    "\n",
    "#     kwargs.update(transform=ax2.transAxes)  # switch to the bottom axes\n",
    "#     ax2.plot((-d, +d), (1 - d, 1 + d), **kwargs)  # bottom-left diagonal\n",
    "#     ax2.plot((1 - d, 1 + d), (1 - d, 1 + d), **kwargs)  # bottom-right diagonal\n"
   ]
  },
  {
   "cell_type": "markdown",
   "id": "4da2cc54",
   "metadata": {},
   "source": [
    "### issues labels"
   ]
  },
  {
   "cell_type": "markdown",
   "id": "79776dca",
   "metadata": {},
   "source": [
    "#### prepare data"
   ]
  },
  {
   "cell_type": "code",
   "execution_count": 18,
   "id": "6df8cbf9",
   "metadata": {},
   "outputs": [],
   "source": [
    "labels_list = []\n",
    "for i in range(issues_df.shape[0]):\n",
    "    if len(issues_df.iloc[i]['labels'])==0:\n",
    "        labels_list.append('not labeled')\n",
    "    else:\n",
    "        for label in issues_df.iloc[i]['labels']: \n",
    "            labels_list.append(label)\n"
   ]
  },
  {
   "cell_type": "code",
   "execution_count": 19,
   "id": "5779f56c",
   "metadata": {},
   "outputs": [],
   "source": [
    "open_labels = [item for sublist in issues_df['labels'].tolist() for item in sublist]\n",
    "close_labels = [item for sublist in closed_issues_df['labels'].tolist() for item in sublist]"
   ]
  },
  {
   "cell_type": "code",
   "execution_count": 20,
   "id": "40dd9e67",
   "metadata": {},
   "outputs": [],
   "source": [
    "open_unlabeled_count = issues_df['labels'].apply(lambda arr: len(arr) == 0).sum()\n",
    "closed_unlabeled_count = closed_issues_df['labels'].apply(lambda arr: len(arr) == 0).sum()\n",
    "\n",
    "# append all the lists in col of 'labels' into one list\n",
    "open_labelsdf = pd.DataFrame({ 'labels': issues_df['labels'].sum() })\n",
    "closed_labelsdf = pd.DataFrame({ 'labels': closed_issues_df['labels'].sum() })\n",
    "\n",
    "open_freq = open_labelsdf['labels'].value_counts()\n",
    "closed_freq = closed_labelsdf['labels'].value_counts()\n",
    "open_freq['unlabeled'] = open_unlabeled_count\n",
    "closed_freq['unlabeled'] = closed_unlabeled_count\n",
    "open_freq.sort_values(ascending=False, inplace=True)\n",
    "closed_freq.sort_values(ascending=False, inplace=True)"
   ]
  },
  {
   "cell_type": "code",
   "execution_count": 78,
   "id": "dcd32581",
   "metadata": {},
   "outputs": [
    {
     "data": {
      "text/plain": [
       "unlabeled           60\n",
       "docs                18\n",
       "governance          11\n",
       "enhancement          4\n",
       "build                3\n",
       "CLI                  3\n",
       "good first issue     3\n",
       "T:bug                3\n",
       "more-info-needed     3\n",
       "code-hygiene         2\n",
       "WIP                  1\n",
       "move-to-sdk          1\n",
       "ADR                  1\n",
       "devops               1\n",
       "UX                   1\n",
       "proposal             1\n",
       "tests                1\n",
       "blocked              1\n",
       "Name: labels, dtype: int64"
      ]
     },
     "execution_count": 78,
     "metadata": {},
     "output_type": "execute_result"
    }
   ],
   "source": [
    "open_freq"
   ]
  },
  {
   "cell_type": "code",
   "execution_count": 79,
   "id": "c7ee148b",
   "metadata": {},
   "outputs": [
    {
     "data": {
      "text/plain": [
       "unlabeled                 594\n",
       "R4R                       146\n",
       "dependencies               90\n",
       "docs                       48\n",
       "automerge                  42\n",
       "go                         35\n",
       "stale                      20\n",
       "build                      14\n",
       "javascript                 14\n",
       "backport/4.1.x             13\n",
       "WIP                        11\n",
       "sim                         9\n",
       "CLI                         8\n",
       "T:bug                       8\n",
       "good first issue            7\n",
       "more-info-needed            7\n",
       "REST                        6\n",
       "pinned                      6\n",
       "backport/4.2.x              5\n",
       "enhancement                 5\n",
       "code-hygiene                4\n",
       "conflicts                   4\n",
       "proposal                    4\n",
       "blocked                     4\n",
       "tests                       3\n",
       "security                    3\n",
       "state-machine-breaking      3\n",
       "IBC                         3\n",
       "codefest                    2\n",
       "help wanted                 2\n",
       "UX                          1\n",
       "roadmap                     1\n",
       "governance                  1\n",
       "devops                      1\n",
       "wontfix                     1\n",
       "Name: labels, dtype: int64"
      ]
     },
     "execution_count": 79,
     "metadata": {},
     "output_type": "execute_result"
    }
   ],
   "source": [
    "closed_freq"
   ]
  },
  {
   "cell_type": "markdown",
   "id": "a9bd9bfd",
   "metadata": {},
   "source": [
    "#### plot data"
   ]
  },
  {
   "cell_type": "code",
   "execution_count": 80,
   "id": "f849e78f",
   "metadata": {},
   "outputs": [
    {
     "data": {
      "image/png": "[encoded data removed]",
      "text/plain": [
       "<Figure size 1152x432 with 1 Axes>"
      ]
     },
     "metadata": {
      "needs_background": "light"
     },
     "output_type": "display_data"
    },
    {
     "data": {
      "image/png": "[encoded data removed]",
      "text/plain": [
       "<Figure size 1152x432 with 2 Axes>"
      ]
     },
     "metadata": {
      "needs_background": "light"
     },
     "output_type": "display_data"
    }
   ],
   "source": [
    "# labels plot for open issues\n",
    "x = range(len(open_freq))\n",
    "# height = counts\n",
    "fig, ax = plt.subplots(figsize=(16,6))\n",
    "ax.bar(\n",
    "    x=range(len(open_freq)), # 0, 1, 2, 3, 4,...\n",
    "    height=open_freq.values, \n",
    ")\n",
    "ax.set_xticks(range(len(open_freq)))\n",
    " # truncate the label name if too long\n",
    "ax.set_xticklabels([ l for l in open_freq.index ], rotation=65)\n",
    "ax.set_xlabel('labels for open issues')\n",
    "ax.set_ylabel('counts')\n",
    "plt.savefig('label_open_issues.png', bbox_inches='tight')\n",
    "plt.show()\n",
    "\n",
    "\n",
    "\n",
    "\n",
    "# labels plot for closed issues\n",
    "x = range(len(closed_freq))\n",
    "fig, (ax, ax2) = plt.subplots(2, 1, figsize=(16,6))\n",
    "ax.bar(\n",
    "    x=range(len(closed_freq)),\n",
    "    height=closed_freq.values, \n",
    ")\n",
    "ax2.bar(\n",
    "    x=range(len(closed_freq)),\n",
    "    height=closed_freq.values, \n",
    ")\n",
    "\n",
    "ax.set_ylim(560,600)  # outliers only\n",
    "ax2.set_ylim(0,180) \n",
    "ax.set_xticks(range(len(closed_freq)))\n",
    "ax2.set_xticks(range(len(closed_freq)))\n",
    "ax.set_xticklabels([ l[:10] for l in closed_freq.index], rotation=65)\n",
    "ax2.set_xticklabels([ l[:10] for l in closed_freq.index], rotation=65)\n",
    "plt.xlabel('labels for closed issues')\n",
    "plt.ylabel('counts')\n",
    "ax.spines['bottom'].set_visible(False)\n",
    "ax2.spines['top'].set_visible(False)\n",
    "ax.xaxis.tick_top()\n",
    "ax.tick_params(labeltop=False,  top=False)  \n",
    "ax2.xaxis.tick_bottom()\n",
    "\n",
    "d = .005\n",
    "kwargs = dict(transform=ax.transAxes, color='k', clip_on=False)\n",
    "ax.plot((-d, +d), (-d, +d), **kwargs)        # top-left diagonal\n",
    "ax.plot((1 - d, 1 + d), (-d, +d), **kwargs)  # top-right diagonal\n",
    "kwargs.update(transform=ax2.transAxes)  # switch to the bottom axes\n",
    "ax2.plot((-d, +d), (1 - d, 1 + d), **kwargs)  # bottom-left diagonal\n",
    "ax2.plot((1 - d, 1 + d), (1 - d, 1 + d), **kwargs)  # bottom-right diagonal\n",
    "\n",
    "plt.savefig('label_closed_issues.png', bbox_inches='tight')\n",
    "plt.show()\n"
   ]
  },
  {
   "cell_type": "markdown",
   "id": "3e7f8813",
   "metadata": {},
   "source": [
    "### contributor organizations"
   ]
  },
  {
   "cell_type": "code",
   "execution_count": 22,
   "id": "0b709699",
   "metadata": {},
   "outputs": [
    {
     "data": {
      "image/png": "[encoded data removed]",
      "text/plain": [
       "<Figure size 864x432 with 1 Axes>"
      ]
     },
     "metadata": {},
     "output_type": "display_data"
    },
    {
     "data": {
      "image/png": "[encoded data removed]",
      "text/plain": [
       "<Figure size 864x432 with 1 Axes>"
      ]
     },
     "metadata": {},
     "output_type": "display_data"
    }
   ],
   "source": [
    "authors = issues_df['author_association'].value_counts()\n",
    "authors.plot.pie(subplots=True, figsize=(12, 6),autopct='%1.1f%%')\n",
    "plt.title('author organizations for open issues')\n",
    "plt.ylabel('')\n",
    "plt.savefig('authors_open_issues.png', bbox_inches='tight')\n",
    "plt.show()\n",
    "\n",
    "authors = closed_issues_df['author_association'].value_counts()\n",
    "authors.plot.pie(subplots=True, figsize=(12, 6),autopct='%1.1f%%')\n",
    "plt.title('author organizations for closed issues')\n",
    "plt.ylabel('')\n",
    "plt.savefig('authors_closed_issues.png', bbox_inches='tight')\n",
    "plt.show()"
   ]
  },
  {
   "cell_type": "markdown",
   "id": "3ef9bacb",
   "metadata": {},
   "source": [
    "### comments per issue"
   ]
  },
  {
   "cell_type": "code",
   "execution_count": 72,
   "id": "6b45bc9a",
   "metadata": {},
   "outputs": [
    {
     "name": "stdout",
     "output_type": "stream",
     "text": [
      "There are 0.09090909090909091 open issues has 1 comments, there are 0.8080808080808081 ipen issues has 0 and 1 comments\n"
     ]
    }
   ],
   "source": [
    "comments_counts = issues_df['comments_no'].value_counts()\n",
    "comments1 = (comments_counts[1])/comments_counts.values.sum()\n",
    "comments0or1 = (comments_counts[0]+comments_counts[1])/comments_counts.values.sum()\n",
    "print('There are {} open issues has 1 comments, there are {} ipen issues has 0 and 1 comments'.format(closed_comments1, closed_comments0or1))"
   ]
  },
  {
   "cell_type": "code",
   "execution_count": 74,
   "id": "0f4158a7",
   "metadata": {},
   "outputs": [
    {
     "name": "stdout",
     "output_type": "stream",
     "text": [
      "There are 0.34994807892004154 closed issues has 1 comments, there are 0.6853582554517134 closed issues has 0 and 1 comments\n"
     ]
    }
   ],
   "source": [
    "closed_comments_counts = closed_issues_df['comments_no'].value_counts()\n",
    "closed_comments1 = (closed_comments_counts[1])/closed_comments_counts.values.sum()\n",
    "closed_comments0or1 = (closed_comments_counts[0]+closed_comments_counts[1])/closed_comments_counts.values.sum()\n",
    "print('There are {} closed issues has 1 comments, there are {} closed issues has 0 and 1 comments'.format(closed_comments1, closed_comments0or1))"
   ]
  },
  {
   "cell_type": "code",
   "execution_count": 77,
   "id": "c0897a44",
   "metadata": {},
   "outputs": [
    {
     "data": {
      "text/plain": [
       "1.0     337\n",
       "0.0     323\n",
       "2.0     121\n",
       "3.0      50\n",
       "4.0      49\n",
       "5.0      25\n",
       "6.0      17\n",
       "7.0      10\n",
       "8.0       7\n",
       "9.0       6\n",
       "10.0      4\n",
       "15.0      3\n",
       "14.0      3\n",
       "11.0      2\n",
       "18.0      1\n",
       "22.0      1\n",
       "13.0      1\n",
       "12.0      1\n",
       "25.0      1\n",
       "41.0      1\n",
       "Name: comments_no, dtype: int64"
      ]
     },
     "execution_count": 77,
     "metadata": {},
     "output_type": "execute_result"
    }
   ],
   "source": [
    "closed_issues_df['comments_no'].value_counts()"
   ]
  },
  {
   "cell_type": "code",
   "execution_count": 23,
   "id": "2d837c74",
   "metadata": {},
   "outputs": [
    {
     "data": {
      "image/png": "[encoded data removed]",
      "text/plain": [
       "<Figure size 432x288 with 2 Axes>"
      ]
     },
     "metadata": {
      "needs_background": "light"
     },
     "output_type": "display_data"
    },
    {
     "data": {
      "image/png": "[encoded data removed]",
      "text/plain": [
       "<Figure size 432x288 with 2 Axes>"
      ]
     },
     "metadata": {
      "needs_background": "light"
     },
     "output_type": "display_data"
    }
   ],
   "source": [
    "# open issues comment amount\n",
    "f, (ax, ax2) = plt.subplots(2, 1, sharex=True)\n",
    "ax.hist(issues_df['comments_no'], edgecolor='black', linewidth=1.2, bins=20)\n",
    "ax2.hist(issues_df['comments_no'], edgecolor='black', linewidth=1.2, bins=20)\n",
    "ax.set_ylim(50,75)  # outliers only\n",
    "ax2.set_ylim(0,25) \n",
    "\n",
    "# plt.xticks(rotation=tilt,  horizontalalignment='right')\n",
    "plt.xlabel('comments amount/open issue')\n",
    "plt.ylabel('counts')\n",
    "\n",
    "ax.spines['bottom'].set_visible(False)\n",
    "ax2.spines['top'].set_visible(False)\n",
    "ax.xaxis.tick_top()\n",
    "ax.tick_params(labeltop=False,  top=False)  \n",
    "ax2.xaxis.tick_bottom()\n",
    "\n",
    "d = .015 \n",
    "kwargs = dict(transform=ax.transAxes, color='k', clip_on=False)\n",
    "ax.plot((-d, +d), (-d, +d), **kwargs)        # top-left diagonal\n",
    "ax.plot((1 - d, 1 + d), (-d, +d), **kwargs)  # top-right diagonal\n",
    "kwargs.update(transform=ax2.transAxes)  # switch to the bottom axes\n",
    "ax2.plot((-d, +d), (1 - d, 1 + d), **kwargs)  # bottom-left diagonal\n",
    "ax2.plot((1 - d, 1 + d), (1 - d, 1 + d), **kwargs)  # bottom-right diagonal\n",
    "plt.savefig('comments_open_issues.png', bbox_inches='tight')\n",
    "plt.show()\n",
    "\n",
    "\n",
    "# closed issues comment amount\n",
    "f, (ax, ax2) = plt.subplots(2, 1, sharex=True)\n",
    "ax.hist(closed_issues_df['comments_no'], edgecolor='black', linewidth=1.2, bins=20)\n",
    "ax2.hist(closed_issues_df['comments_no'], edgecolor='black', linewidth=1.2, bins=20)\n",
    "ax.set_ylim(760,800)  # outliers only\n",
    "ax2.set_ylim(0,110) \n",
    "plt.xticks(np.arange(0, max(closed_issues_df['comments_no'].values)+1, 5))\n",
    "# plt.xticks(rotation=tilt,  horizontalalignment='right')\n",
    "plt.xlabel('comments amount/closed issue')\n",
    "plt.ylabel('counts')\n",
    "ax.spines['bottom'].set_visible(False)\n",
    "ax2.spines['top'].set_visible(False)\n",
    "ax.xaxis.tick_top()\n",
    "ax.tick_params(labeltop=False,  top=False)  \n",
    "ax2.xaxis.tick_bottom()\n",
    "\n",
    "d = .015 \n",
    "kwargs = dict(transform=ax.transAxes, color='k', clip_on=False)\n",
    "ax.plot((-d, +d), (-d, +d), **kwargs)        # top-left diagonal\n",
    "ax.plot((1 - d, 1 + d), (-d, +d), **kwargs)  # top-right diagonal\n",
    "kwargs.update(transform=ax2.transAxes)  # switch to the bottom axes\n",
    "ax2.plot((-d, +d), (1 - d, 1 + d), **kwargs)  # bottom-left diagonal\n",
    "ax2.plot((1 - d, 1 + d), (1 - d, 1 + d), **kwargs)  # bottom-right diagonal\n",
    "plt.savefig('comments_closed_issues.png', bbox_inches='tight')\n",
    "plt.show()"
   ]
  },
  {
   "cell_type": "markdown",
   "id": "1f5bd3da",
   "metadata": {},
   "source": [
    "### keywords frequency check"
   ]
  },
  {
   "cell_type": "code",
   "execution_count": 24,
   "id": "c4774151",
   "metadata": {},
   "outputs": [],
   "source": [
    "words_dict_open = {}\n",
    "words_dict_close = {}\n",
    "words = ['panic', 'cosmovisor', 'version', 'peer', 'err', 'sync', 'how', 'tendermint', 'ibc', 'sdk']\n",
    "for word in words:\n",
    "    words_dict_open[word] = 0\n",
    "    words_dict_close[word] = 0\n",
    "    \n",
    "for i in range(issues_df.shape[0]):\n",
    "    find_keywords(issues_df.iloc[i]['content'].lower(), words, words_dict_open)\n",
    "\n",
    "\n",
    "for i in range(closed_issues_df.shape[0]):\n",
    "    find_keywords(closed_issues_df.iloc[i]['content'].lower(), words, words_dict_close)"
   ]
  },
  {
   "cell_type": "code",
   "execution_count": 25,
   "id": "d7c35e25",
   "metadata": {},
   "outputs": [
    {
     "data": {
      "image/png": "[encoded data removed]",
      "text/plain": [
       "<Figure size 432x288 with 1 Axes>"
      ]
     },
     "metadata": {
      "needs_background": "light"
     },
     "output_type": "display_data"
    },
    {
     "data": {
      "image/png": "[encoded data removed]",
      "text/plain": [
       "<Figure size 432x288 with 1 Axes>"
      ]
     },
     "metadata": {
      "needs_background": "light"
     },
     "output_type": "display_data"
    }
   ],
   "source": [
    "plt.bar(range(len(words_dict_open)), words_dict_open.values(), align='center', linewidth=1.2)\n",
    "plt.xticks(range(len(words_dict_open)), list(words_dict_open.keys()))\n",
    "plt.ylabel('counts (for open issues)')\n",
    "plt.xlabel('key words (one keyword appear several times in one issue only counts 1)')\n",
    "plt.xticks(rotation=45)\n",
    "plt.savefig('keywords_ipen_issues.png', bbox_inches='tight')\n",
    "plt.show()\n",
    "\n",
    "plt.bar(range(len(words_dict_close)), words_dict_close.values(), align='center', linewidth=1.2)\n",
    "plt.xticks(range(len(words_dict_close)), list(words_dict_close.keys()))\n",
    "plt.ylabel('counts (for closed issues)')\n",
    "plt.xlabel('key words (one keyword appear several times in one issue only counts 1)')\n",
    "plt.xticks(rotation=45)\n",
    "plt.savefig('keywords_closed_issues.png', bbox_inches='tight')\n",
    "plt.show()"
   ]
  },
  {
   "cell_type": "code",
   "execution_count": null,
   "id": "58722799",
   "metadata": {},
   "outputs": [],
   "source": []
  }
 ],
 "metadata": {
  "kernelspec": {
   "display_name": "Python 3 (ipykernel)",
   "language": "python",
   "name": "python3"
  },
  "language_info": {
   "codemirror_mode": {
    "name": "ipython",
    "version": 3
   },
   "file_extension": ".py",
   "mimetype": "text/x-python",
   "name": "python",
   "nbconvert_exporter": "python",
   "pygments_lexer": "ipython3",
   "version": "3.10.0"
  }
 },
 "nbformat": 4,
 "nbformat_minor": 5
}
